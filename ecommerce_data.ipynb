{
  "nbformat": 4,
  "nbformat_minor": 0,
  "metadata": {
    "colab": {
      "provenance": []
    },
    "kernelspec": {
      "name": "python3",
      "display_name": "Python 3"
    },
    "language_info": {
      "name": "python"
    }
  },
  "cells": [
    {
      "cell_type": "code",
      "source": [
        "pip install pyspark"
      ],
      "metadata": {
        "id": "dEnlBAka9YA_",
        "colab": {
          "base_uri": "https://localhost:8080/"
        },
        "outputId": "f9992c35-b227-41ba-83b4-9e5d2d712321"
      },
      "execution_count": 1,
      "outputs": [
        {
          "output_type": "stream",
          "name": "stdout",
          "text": [
            "Collecting pyspark\n",
            "  Downloading pyspark-3.5.2.tar.gz (317.3 MB)\n",
            "\u001b[2K     \u001b[90m━━━━━━━━━━━━━━━━━━━━━━━━━━━━━━━━━━━━━━━━\u001b[0m \u001b[32m317.3/317.3 MB\u001b[0m \u001b[31m1.8 MB/s\u001b[0m eta \u001b[36m0:00:00\u001b[0m\n",
            "\u001b[?25h  Preparing metadata (setup.py) ... \u001b[?25l\u001b[?25hdone\n",
            "Requirement already satisfied: py4j==0.10.9.7 in /usr/local/lib/python3.10/dist-packages (from pyspark) (0.10.9.7)\n",
            "Building wheels for collected packages: pyspark\n",
            "  Building wheel for pyspark (setup.py) ... \u001b[?25l\u001b[?25hdone\n",
            "  Created wheel for pyspark: filename=pyspark-3.5.2-py2.py3-none-any.whl size=317812365 sha256=0fbbdcfcbad2e7feb1c24dc859b9c72391194b1f72b35a2f80b2d7abf2b6623c\n",
            "  Stored in directory: /root/.cache/pip/wheels/34/34/bd/03944534c44b677cd5859f248090daa9fb27b3c8f8e5f49574\n",
            "Successfully built pyspark\n",
            "Installing collected packages: pyspark\n",
            "Successfully installed pyspark-3.5.2\n"
          ]
        }
      ]
    },
    {
      "cell_type": "code",
      "source": [
        "from pyspark.sql import SparkSession\n",
        "from pyspark.sql.functions import *\n",
        "from pyspark.sql.types import *\n",
        "\n",
        "import datetime as dt"
      ],
      "metadata": {
        "id": "eYneiLmHszsw"
      },
      "execution_count": 17,
      "outputs": []
    },
    {
      "cell_type": "code",
      "source": [
        "ecommerce_session = SparkSession.builder.appName(\"Ecommerce\").getOrCreate()"
      ],
      "metadata": {
        "id": "_MRWYkUVvDug"
      },
      "execution_count": 3,
      "outputs": []
    },
    {
      "cell_type": "code",
      "source": [
        "ecommerce_schema = StructType([\n",
        "    StructField(\"id\", IntegerType(), False),\n",
        "    StructField(\"order_status\", StringType(), True),\n",
        "    StructField(\"order_products_value\", FloatType(), True),\n",
        "    StructField(\"order_freight_value\", FloatType(), True),\n",
        "    StructField(\"order_items_qty\", IntegerType(), True),\n",
        "    StructField(\"customer_city\", StringType(), True),\n",
        "    StructField(\"customer_state\", StringType(), True),\n",
        "    StructField(\"customer_zip_code_prefix\", IntegerType(), True),\n",
        "    StructField(\"product_name_lenght\", IntegerType(), True),\n",
        "    StructField(\"product_description_lenght\", IntegerType(), True),\n",
        "    StructField(\"product_photos_qty\", IntegerType(), True),\n",
        "    StructField(\"review_score\", IntegerType(), True),\n",
        "    StructField(\"order_purchase_timestamp\", StringType(), True),\n",
        "    StructField(\"order_aproved_at\", StringType(), True),\n",
        "    StructField(\"order_delivered_customer_date\", StringType(), True)\n",
        "])"
      ],
      "metadata": {
        "id": "EvqIDve5z-Vz"
      },
      "execution_count": 4,
      "outputs": []
    },
    {
      "cell_type": "code",
      "source": [
        "ecommerce_df = ecommerce_session.read.format(\"csv\").option(\"header\", \"False\").schema(ecommerce_schema).load(\"olist_public_dataset.csv\")\n",
        "print((ecommerce_df.count(), len(ecommerce_df.columns)))\n",
        "ecommerce_df.printSchema()"
      ],
      "metadata": {
        "colab": {
          "base_uri": "https://localhost:8080/"
        },
        "id": "qiesXnui128M",
        "outputId": "3ac833e6-5aa1-4ca3-dfbc-a94b2b9ac4c8"
      },
      "execution_count": 37,
      "outputs": [
        {
          "output_type": "stream",
          "name": "stdout",
          "text": [
            "(100000, 15)\n",
            "root\n",
            " |-- id: integer (nullable = true)\n",
            " |-- order_status: string (nullable = true)\n",
            " |-- order_products_value: float (nullable = true)\n",
            " |-- order_freight_value: float (nullable = true)\n",
            " |-- order_items_qty: integer (nullable = true)\n",
            " |-- customer_city: string (nullable = true)\n",
            " |-- customer_state: string (nullable = true)\n",
            " |-- customer_zip_code_prefix: integer (nullable = true)\n",
            " |-- product_name_lenght: integer (nullable = true)\n",
            " |-- product_description_lenght: integer (nullable = true)\n",
            " |-- product_photos_qty: integer (nullable = true)\n",
            " |-- review_score: integer (nullable = true)\n",
            " |-- order_purchase_timestamp: string (nullable = true)\n",
            " |-- order_aproved_at: string (nullable = true)\n",
            " |-- order_delivered_customer_date: string (nullable = true)\n",
            "\n"
          ]
        }
      ]
    },
    {
      "cell_type": "code",
      "source": [
        "ecommerce_session.conf.set(\"spark.sql.legacy.timeParserPolicy\", \"LEGACY\")"
      ],
      "metadata": {
        "id": "ytcgv2ucEc1X"
      },
      "execution_count": 38,
      "outputs": []
    },
    {
      "cell_type": "code",
      "source": [
        "ecommerce_df = ecommerce_df.withColumn(\"order_purchase_as_date\",to_date(col(\"order_purchase_timestamp\"),'dd/MM/yy'))\n",
        "ecommerce_df = ecommerce_df.withColumn(\"order_approved_at_as_date\",to_date(col(\"order_aproved_at\"),'dd/MM/yy'))\n",
        "ecommerce_df = ecommerce_df.withColumn(\"order_delivery_customer_date_as_date\",to_date(col(\"order_delivered_customer_date\"),'dd/MM/yy'))"
      ],
      "metadata": {
        "collapsed": true,
        "id": "5t5T_wQwdyd9"
      },
      "execution_count": 39,
      "outputs": []
    },
    {
      "cell_type": "code",
      "source": [
        "ecommerce_df = ecommerce_df.withColumn(\"order_purchase_as_datetime\",to_timestamp(col(\"order_purchase_timestamp\"),'dd/MM/yy HH:mm'))\n",
        "ecommerce_df = ecommerce_df.withColumn(\"order_approved_at_as_datetime\",to_timestamp(col(\"order_aproved_at\"),'dd/MM/yy HH:mm'))\n",
        "ecommerce_df = ecommerce_df.withColumn(\"order_delivery_customer_date_as_datetime\",to_timestamp(col(\"order_delivered_customer_date\"),'dd/MM/yy HH:mm'))"
      ],
      "metadata": {
        "colab": {
          "base_uri": "https://localhost:8080/"
        },
        "id": "L0QSbwcblMlp",
        "outputId": "109fa419-735b-4434-ebd1-377e503b531a"
      },
      "execution_count": 104,
      "outputs": [
        {
          "output_type": "stream",
          "name": "stdout",
          "text": [
            "+---+------------+--------------------+-------------------+---------------+-------------------+--------------+------------------------+-------------------+--------------------------+------------------+------------+------------------------+----------------+-----------------------------+----------------------+-------------------------+------------------------------------+-----------+-------------+--------------------------+-----------------------------+----------------------------------------+\n",
            "| id|order_status|order_products_value|order_freight_value|order_items_qty|      customer_city|customer_state|customer_zip_code_prefix|product_name_lenght|product_description_lenght|product_photos_qty|review_score|order_purchase_timestamp|order_aproved_at|order_delivered_customer_date|order_purchase_as_date|order_approved_at_as_date|order_delivery_customer_date_as_date|day_of_week|week_of_month|order_purchase_as_datetime|order_approved_at_as_datetime|order_delivery_customer_date_as_datetime|\n",
            "+---+------------+--------------------+-------------------+---------------+-------------------+--------------+------------------------+-------------------+--------------------------+------------------+------------+------------------------+----------------+-----------------------------+----------------------+-------------------------+------------------------------------+-----------+-------------+--------------------------+-----------------------------+----------------------------------------+\n",
            "|  1|   delivered|                79.0|               17.8|              1|           Luziania|            GO|                     728|                 50|                       201|                 2|           5|          02/10/17 10:56|  02/10/17 11:07|               10/10/17 21:25|            2017-10-02|               2017-10-02|                          2017-10-10|    Tuesday|            2|       2017-10-02 10:56:00|          2017-10-02 11:07:00|                     2017-10-10 21:25:00|\n",
            "|  2|   delivered|               119.9|              27.16|              1|          Joinville|            SC|                     892|                 50|                       511|                 3|           5|          24/07/18 20:41|   26/07/18 3:24|               07/08/18 15:27|            2018-07-24|               2018-07-26|                          2018-08-07|  Wednesday|            5|       2018-07-24 20:41:00|          2018-07-26 03:24:00|                     2018-08-07 15:27:00|\n",
            "|  3|   delivered|              519.99|              41.69|              1|              Serra|            ES|                     291|                 48|                      1156|                 2|           1|           08/08/18 8:38|   08/08/18 8:55|               17/08/18 18:06|            2018-08-08|               2018-08-08|                          2018-08-17|   Thursday|            2|       2018-08-08 08:38:00|          2018-08-08 08:55:00|                     2018-08-17 18:06:00|\n",
            "|  4|   delivered|                29.5|              17.92|              1|     RIO DE JANEIRO|            RJ|                     222|                 21|                       207|                 2|           4|          18/11/17 19:28|  18/11/17 19:45|                02/12/17 0:28|            2017-11-18|               2017-11-18|                          2017-12-02|     Sunday|            3|       2017-11-18 19:28:00|          2017-11-18 19:45:00|                     2017-12-02 00:28:00|\n",
            "|  5|   delivered|               26.77|              23.11|              1|          Sao Paulo|            SP|                      40|                 41|                       451|                 1|           5|          13/02/18 21:18|  13/02/18 22:20|               16/02/18 18:17|            2018-02-13|               2018-02-13|                          2018-02-16|  Wednesday|            3|       2018-02-13 21:18:00|          2018-02-13 22:20:00|                     2018-02-16 18:17:00|\n",
            "|  6|   delivered|               419.9|              23.02|              1|       Santa Adelia|            SP|                     159|                 46|                       692|                 3|           5|          09/07/17 21:57|  09/07/17 22:10|               26/07/17 10:57|            2017-07-09|               2017-07-09|                          2017-07-26|     Monday|            2|       2017-07-09 21:57:00|          2017-07-09 22:10:00|                     2017-07-26 10:57:00|\n",
            "|  7|   delivered|                65.0|              16.21|              1|           Varginha|            MG|                     370|                 47|                       893|                 3|           5|          11/04/17 12:22|  13/04/17 13:25|               13/04/17 13:25|            2017-04-11|               2017-04-13|                          2017-04-13|  Wednesday|            3|       2017-04-11 12:22:00|          2017-04-13 13:25:00|                     2017-04-13 13:25:00|\n",
            "|  8|   delivered|               29.99|              19.82|              1|          Sao Paulo|            SP|                      48|                 55|                       613|                 1|           4|          16/05/17 13:10|  16/05/17 13:22|               26/05/17 12:55|            2017-05-16|               2017-05-16|                          2017-05-26|  Wednesday|            3|       2017-05-16 13:10:00|          2017-05-16 13:22:00|                     2017-05-26 12:55:00|\n",
            "|  9|   delivered|               59.99|              51.14|              1|            Carajas|            PA|                     685|                 28|                        96|                 4|           5|          23/01/17 18:29|   25/01/17 2:50|               02/02/17 14:08|            2017-01-23|               2017-01-25|                          2017-02-02|    Tuesday|            4|       2017-01-23 18:29:00|          2017-01-25 02:50:00|                     2017-02-02 14:08:00|\n",
            "| 10|   delivered|               56.99|              16.13|              1|            Resende|            RJ|                     275|                 59|                       641|                 3|           5|          29/07/17 11:55|  29/07/17 12:05|               16/08/17 17:14|            2017-07-29|               2017-07-29|                          2017-08-16|     Sunday|            5|       2017-07-29 11:55:00|          2017-07-29 12:05:00|                     2017-08-16 17:14:00|\n",
            "| 11|   delivered|               599.0|              15.69|              1|      Guaratingueta|            SP|                     125|                 43|                      1686|                 2|           4|          16/05/17 19:41|  16/05/17 19:50|               29/05/17 11:18|            2017-05-16|               2017-05-16|                          2017-05-29|  Wednesday|            3|       2017-05-16 19:41:00|          2017-05-16 19:50:00|                     2017-05-29 11:18:00|\n",
            "| 12|   delivered|                62.0|              16.19|              1|            Tijucas|            SC|                     882|                 50|                       285|                 1|           4|          13/07/17 19:58|  13/07/17 20:10|               19/07/17 14:04|            2017-07-13|               2017-07-13|                          2017-07-19|     Friday|            3|       2017-07-13 19:58:00|          2017-07-13 20:10:00|                     2017-07-19 14:04:00|\n",
            "| 13|   delivered|               250.0|              35.02|              1|           Mirassol|            SP|                     151|                 57|                       771|                 1|           1|          07/06/18 10:06|   09/06/18 3:13|               19/06/18 12:05|            2018-06-07|               2018-06-09|                          2018-06-19|     Friday|            2|       2018-06-07 10:06:00|          2018-06-09 03:13:00|                     2018-06-19 12:05:00|\n",
            "| 14|   delivered|                69.9|              12.93|              1|          SAO PAULO|            SP|                      82|                 57|                       427|                 1|           4|          25/07/18 17:44|  25/07/18 17:55|               30/07/18 15:52|            2018-07-25|               2018-07-25|                          2018-07-30|   Thursday|            5|       2018-07-25 17:44:00|          2018-07-25 17:55:00|                     2018-07-30 15:52:00|\n",
            "| 15|   delivered|               250.0|               16.5|              1|               Bage|            RS|                     964|                 55|                       255|                 1|           5|          01/03/18 14:14|  01/03/18 15:10|               12/03/18 23:36|            2018-03-01|               2018-03-01|                          2018-03-12|     Friday|            1|       2018-03-01 14:14:00|          2018-03-01 15:10:00|                     2018-03-12 23:36:00|\n",
            "| 16|   delivered|                79.9|               7.82|              1|            Cubatao|            SP|                     115|                 33|                       484|                 3|           3|          07/06/18 19:03|  12/06/18 23:31|               21/06/18 15:34|            2018-06-07|               2018-06-12|                          2018-06-21|     Friday|            2|       2018-06-07 19:03:00|          2018-06-12 23:31:00|                     2018-06-21 15:34:00|\n",
            "| 17|   delivered|                32.0|              19.41|              1|          Jaraguari|            MS|                     794|                 57|                       529|                 4|           4|          02/01/18 19:00|  02/01/18 19:09|                20/01/18 1:38|            2018-01-02|               2018-01-02|                          2018-01-20|  Wednesday|            1|       2018-01-02 19:00:00|          2018-01-02 19:09:00|                     2018-01-20 01:38:00|\n",
            "| 18|   delivered|               287.7|              15.37|              1|Presidente Prudente|            SP|                     190|                 45|                      3793|                 2|           5|          26/12/17 23:41|  26/12/17 23:50|               08/01/18 22:36|            2017-12-26|               2017-12-26|                          2018-01-08|  Wednesday|            5|       2017-12-26 23:41:00|          2017-12-26 23:50:00|                     2018-01-08 22:36:00|\n",
            "| 19|   delivered|               59.99|              15.18|              1|   Cidade Ocidental|            GO|                     728|                 44|                      1854|                 6|           3|           21/11/17 0:03|   21/11/17 0:14|               27/11/17 18:28|            2017-11-21|               2017-11-21|                          2017-11-27|  Wednesday|            4|       2017-11-21 00:03:00|          2017-11-21 00:14:00|                     2017-11-27 18:28:00|\n",
            "| 20|   delivered|              1200.0|              60.76|              1|Sao Lourenco do Sul|            RS|                     961|                 55|                      3632|                 4|           4|          26/10/17 15:54|  26/10/17 16:08|               08/11/17 22:22|            2017-10-26|               2017-10-26|                          2017-11-08|     Friday|            5|       2017-10-26 15:54:00|          2017-10-26 16:08:00|                     2017-11-08 22:22:00|\n",
            "+---+------------+--------------------+-------------------+---------------+-------------------+--------------+------------------------+-------------------+--------------------------+------------------+------------+------------------------+----------------+-----------------------------+----------------------+-------------------------+------------------------------------+-----------+-------------+--------------------------+-----------------------------+----------------------------------------+\n",
            "only showing top 20 rows\n",
            "\n"
          ]
        }
      ]
    },
    {
      "cell_type": "code",
      "source": [
        "ecommerce_df.printSchema()\n",
        "ecommerce_df.show()"
      ],
      "metadata": {
        "colab": {
          "base_uri": "https://localhost:8080/"
        },
        "id": "VESijPF6Do0G",
        "outputId": "c3387cc0-0788-40dd-a126-cb295440fb18"
      },
      "execution_count": 42,
      "outputs": [
        {
          "output_type": "stream",
          "name": "stdout",
          "text": [
            "root\n",
            " |-- id: integer (nullable = true)\n",
            " |-- order_status: string (nullable = true)\n",
            " |-- order_products_value: float (nullable = true)\n",
            " |-- order_freight_value: float (nullable = true)\n",
            " |-- order_items_qty: integer (nullable = true)\n",
            " |-- customer_city: string (nullable = true)\n",
            " |-- customer_state: string (nullable = true)\n",
            " |-- customer_zip_code_prefix: integer (nullable = true)\n",
            " |-- product_name_lenght: integer (nullable = true)\n",
            " |-- product_description_lenght: integer (nullable = true)\n",
            " |-- product_photos_qty: integer (nullable = true)\n",
            " |-- review_score: integer (nullable = true)\n",
            " |-- order_purchase_timestamp: string (nullable = true)\n",
            " |-- order_aproved_at: string (nullable = true)\n",
            " |-- order_delivered_customer_date: string (nullable = true)\n",
            " |-- order_purchase_as_date: date (nullable = true)\n",
            " |-- order_approved_at_as_date: date (nullable = true)\n",
            " |-- order_delivery_customer_date_as_date: date (nullable = true)\n",
            "\n"
          ]
        }
      ]
    },
    {
      "cell_type": "code",
      "source": [
        "def dayAsString(day_int):\n",
        "  day_of_week_string = {\n",
        "    1: \"Monday\",\n",
        "    2: \"Tuesday\",\n",
        "    3: \"Wednesday\",\n",
        "    4: \"Thursday\",\n",
        "    5: \"Friday\",\n",
        "    6: \"Saturday\",\n",
        "    7: \"Sunday\"\n",
        "  }\n",
        "  return day_of_week_string[day_int]"
      ],
      "metadata": {
        "id": "cBG3Sz8Bzji_"
      },
      "execution_count": 43,
      "outputs": []
    },
    {
      "cell_type": "code",
      "source": [
        "day_as_string_udf = udf(lambda x: dayAsString(x), StringType())"
      ],
      "metadata": {
        "id": "rDexfElCzU9c"
      },
      "execution_count": 44,
      "outputs": []
    },
    {
      "cell_type": "code",
      "source": [
        "becommerce_df = ecommerce_df.withColumn(\"day_of_week\",day_as_string_udf(dayofweek(col(\"order_purchase_as_date\"))))\n",
        "ecommerce_df.show()"
      ],
      "metadata": {
        "colab": {
          "base_uri": "https://localhost:8080/"
        },
        "id": "TAevPX1UzU0m",
        "outputId": "1972482e-9b15-403e-d3dc-b35cf5f8b755"
      },
      "execution_count": 45,
      "outputs": [
        {
          "output_type": "stream",
          "name": "stdout",
          "text": [
            "+---+------------+--------------------+-------------------+---------------+-------------------+--------------+------------------------+-------------------+--------------------------+------------------+------------+------------------------+----------------+-----------------------------+----------------------+-------------------------+------------------------------------+-----------+\n",
            "| id|order_status|order_products_value|order_freight_value|order_items_qty|      customer_city|customer_state|customer_zip_code_prefix|product_name_lenght|product_description_lenght|product_photos_qty|review_score|order_purchase_timestamp|order_aproved_at|order_delivered_customer_date|order_purchase_as_date|order_approved_at_as_date|order_delivery_customer_date_as_date|day_of_week|\n",
            "+---+------------+--------------------+-------------------+---------------+-------------------+--------------+------------------------+-------------------+--------------------------+------------------+------------+------------------------+----------------+-----------------------------+----------------------+-------------------------+------------------------------------+-----------+\n",
            "|  1|   delivered|                79.0|               17.8|              1|           Luziania|            GO|                     728|                 50|                       201|                 2|           5|          02/10/17 10:56|  02/10/17 11:07|               10/10/17 21:25|            2017-10-02|               2017-10-02|                          2017-10-10|    Tuesday|\n",
            "|  2|   delivered|               119.9|              27.16|              1|          Joinville|            SC|                     892|                 50|                       511|                 3|           5|          24/07/18 20:41|   26/07/18 3:24|               07/08/18 15:27|            2018-07-24|               2018-07-26|                          2018-08-07|  Wednesday|\n",
            "|  3|   delivered|              519.99|              41.69|              1|              Serra|            ES|                     291|                 48|                      1156|                 2|           1|           08/08/18 8:38|   08/08/18 8:55|               17/08/18 18:06|            2018-08-08|               2018-08-08|                          2018-08-17|   Thursday|\n",
            "|  4|   delivered|                29.5|              17.92|              1|     RIO DE JANEIRO|            RJ|                     222|                 21|                       207|                 2|           4|          18/11/17 19:28|  18/11/17 19:45|                02/12/17 0:28|            2017-11-18|               2017-11-18|                          2017-12-02|     Sunday|\n",
            "|  5|   delivered|               26.77|              23.11|              1|          Sao Paulo|            SP|                      40|                 41|                       451|                 1|           5|          13/02/18 21:18|  13/02/18 22:20|               16/02/18 18:17|            2018-02-13|               2018-02-13|                          2018-02-16|  Wednesday|\n",
            "|  6|   delivered|               419.9|              23.02|              1|       Santa Adelia|            SP|                     159|                 46|                       692|                 3|           5|          09/07/17 21:57|  09/07/17 22:10|               26/07/17 10:57|            2017-07-09|               2017-07-09|                          2017-07-26|     Monday|\n",
            "|  7|   delivered|                65.0|              16.21|              1|           Varginha|            MG|                     370|                 47|                       893|                 3|           5|          11/04/17 12:22|  13/04/17 13:25|               13/04/17 13:25|            2017-04-11|               2017-04-13|                          2017-04-13|  Wednesday|\n",
            "|  8|   delivered|               29.99|              19.82|              1|          Sao Paulo|            SP|                      48|                 55|                       613|                 1|           4|          16/05/17 13:10|  16/05/17 13:22|               26/05/17 12:55|            2017-05-16|               2017-05-16|                          2017-05-26|  Wednesday|\n",
            "|  9|   delivered|               59.99|              51.14|              1|            Carajas|            PA|                     685|                 28|                        96|                 4|           5|          23/01/17 18:29|   25/01/17 2:50|               02/02/17 14:08|            2017-01-23|               2017-01-25|                          2017-02-02|    Tuesday|\n",
            "| 10|   delivered|               56.99|              16.13|              1|            Resende|            RJ|                     275|                 59|                       641|                 3|           5|          29/07/17 11:55|  29/07/17 12:05|               16/08/17 17:14|            2017-07-29|               2017-07-29|                          2017-08-16|     Sunday|\n",
            "| 11|   delivered|               599.0|              15.69|              1|      Guaratingueta|            SP|                     125|                 43|                      1686|                 2|           4|          16/05/17 19:41|  16/05/17 19:50|               29/05/17 11:18|            2017-05-16|               2017-05-16|                          2017-05-29|  Wednesday|\n",
            "| 12|   delivered|                62.0|              16.19|              1|            Tijucas|            SC|                     882|                 50|                       285|                 1|           4|          13/07/17 19:58|  13/07/17 20:10|               19/07/17 14:04|            2017-07-13|               2017-07-13|                          2017-07-19|     Friday|\n",
            "| 13|   delivered|               250.0|              35.02|              1|           Mirassol|            SP|                     151|                 57|                       771|                 1|           1|          07/06/18 10:06|   09/06/18 3:13|               19/06/18 12:05|            2018-06-07|               2018-06-09|                          2018-06-19|     Friday|\n",
            "| 14|   delivered|                69.9|              12.93|              1|          SAO PAULO|            SP|                      82|                 57|                       427|                 1|           4|          25/07/18 17:44|  25/07/18 17:55|               30/07/18 15:52|            2018-07-25|               2018-07-25|                          2018-07-30|   Thursday|\n",
            "| 15|   delivered|               250.0|               16.5|              1|               Bage|            RS|                     964|                 55|                       255|                 1|           5|          01/03/18 14:14|  01/03/18 15:10|               12/03/18 23:36|            2018-03-01|               2018-03-01|                          2018-03-12|     Friday|\n",
            "| 16|   delivered|                79.9|               7.82|              1|            Cubatao|            SP|                     115|                 33|                       484|                 3|           3|          07/06/18 19:03|  12/06/18 23:31|               21/06/18 15:34|            2018-06-07|               2018-06-12|                          2018-06-21|     Friday|\n",
            "| 17|   delivered|                32.0|              19.41|              1|          Jaraguari|            MS|                     794|                 57|                       529|                 4|           4|          02/01/18 19:00|  02/01/18 19:09|                20/01/18 1:38|            2018-01-02|               2018-01-02|                          2018-01-20|  Wednesday|\n",
            "| 18|   delivered|               287.7|              15.37|              1|Presidente Prudente|            SP|                     190|                 45|                      3793|                 2|           5|          26/12/17 23:41|  26/12/17 23:50|               08/01/18 22:36|            2017-12-26|               2017-12-26|                          2018-01-08|  Wednesday|\n",
            "| 19|   delivered|               59.99|              15.18|              1|   Cidade Ocidental|            GO|                     728|                 44|                      1854|                 6|           3|           21/11/17 0:03|   21/11/17 0:14|               27/11/17 18:28|            2017-11-21|               2017-11-21|                          2017-11-27|  Wednesday|\n",
            "| 20|   delivered|              1200.0|              60.76|              1|Sao Lourenco do Sul|            RS|                     961|                 55|                      3632|                 4|           4|          26/10/17 15:54|  26/10/17 16:08|               08/11/17 22:22|            2017-10-26|               2017-10-26|                          2017-11-08|     Friday|\n",
            "+---+------------+--------------------+-------------------+---------------+-------------------+--------------+------------------------+-------------------+--------------------------+------------------+------------+------------------------+----------------+-----------------------------+----------------------+-------------------------+------------------------------------+-----------+\n",
            "only showing top 20 rows\n",
            "\n"
          ]
        }
      ]
    },
    {
      "cell_type": "code",
      "source": [
        "ecommerce_df.select(\"day_of_week\").distinct().show()"
      ],
      "metadata": {
        "colab": {
          "base_uri": "https://localhost:8080/"
        },
        "id": "Q8egqpU--sGm",
        "outputId": "1f0d33ef-9969-4e7b-b3f1-47a9d77b18d2"
      },
      "execution_count": 46,
      "outputs": [
        {
          "output_type": "stream",
          "name": "stdout",
          "text": [
            "+-----------+\n",
            "|day_of_week|\n",
            "+-----------+\n",
            "|  Wednesday|\n",
            "|    Tuesday|\n",
            "|     Friday|\n",
            "|   Thursday|\n",
            "|   Saturday|\n",
            "|     Monday|\n",
            "|     Sunday|\n",
            "+-----------+\n",
            "\n"
          ]
        }
      ]
    },
    {
      "cell_type": "code",
      "source": [
        "def weekOfMonth(date1):\n",
        "  month = date1.month\n",
        "  year = date1.year\n",
        "  month_start = dt.date(year, month, 1)\n",
        "  if (dt.date(year, 1, 1) == month_start):\n",
        "    week_of_year_month_start = 1\n",
        "  else:\n",
        "    week_of_year_month_start = month_start.isocalendar()[1]\n",
        "  week_of_year_date1 = date1.isocalendar()[1]\n",
        "  return week_of_year_date1 - week_of_year_month_start + 1"
      ],
      "metadata": {
        "id": "pcuqL0k3zUpG"
      },
      "execution_count": 48,
      "outputs": []
    },
    {
      "cell_type": "code",
      "source": [
        "weekOfMonth_udf = udf(lambda x: weekOfMonth(x), IntegerType())"
      ],
      "metadata": {
        "id": "9AxRPzrmzTkl"
      },
      "execution_count": 49,
      "outputs": []
    },
    {
      "cell_type": "code",
      "source": [
        "ecommerce_df = ecommerce_df.withColumn(\"week_of_month\",weekOfMonth_udf(col(\"order_purchase_as_date\")))\n",
        "ecommerce_df.show()"
      ],
      "metadata": {
        "colab": {
          "base_uri": "https://localhost:8080/"
        },
        "id": "v_W_3TMDHdr_",
        "outputId": "5b0148ec-f1a2-41e8-ec2b-87c6658e62b0"
      },
      "execution_count": 50,
      "outputs": [
        {
          "output_type": "stream",
          "name": "stdout",
          "text": [
            "+---+------------+--------------------+-------------------+---------------+-------------------+--------------+------------------------+-------------------+--------------------------+------------------+------------+------------------------+----------------+-----------------------------+----------------------+-------------------------+------------------------------------+-----------+-------------+\n",
            "| id|order_status|order_products_value|order_freight_value|order_items_qty|      customer_city|customer_state|customer_zip_code_prefix|product_name_lenght|product_description_lenght|product_photos_qty|review_score|order_purchase_timestamp|order_aproved_at|order_delivered_customer_date|order_purchase_as_date|order_approved_at_as_date|order_delivery_customer_date_as_date|day_of_week|week_of_month|\n",
            "+---+------------+--------------------+-------------------+---------------+-------------------+--------------+------------------------+-------------------+--------------------------+------------------+------------+------------------------+----------------+-----------------------------+----------------------+-------------------------+------------------------------------+-----------+-------------+\n",
            "|  1|   delivered|                79.0|               17.8|              1|           Luziania|            GO|                     728|                 50|                       201|                 2|           5|          02/10/17 10:56|  02/10/17 11:07|               10/10/17 21:25|            2017-10-02|               2017-10-02|                          2017-10-10|    Tuesday|            2|\n",
            "|  2|   delivered|               119.9|              27.16|              1|          Joinville|            SC|                     892|                 50|                       511|                 3|           5|          24/07/18 20:41|   26/07/18 3:24|               07/08/18 15:27|            2018-07-24|               2018-07-26|                          2018-08-07|  Wednesday|            5|\n",
            "|  3|   delivered|              519.99|              41.69|              1|              Serra|            ES|                     291|                 48|                      1156|                 2|           1|           08/08/18 8:38|   08/08/18 8:55|               17/08/18 18:06|            2018-08-08|               2018-08-08|                          2018-08-17|   Thursday|            2|\n",
            "|  4|   delivered|                29.5|              17.92|              1|     RIO DE JANEIRO|            RJ|                     222|                 21|                       207|                 2|           4|          18/11/17 19:28|  18/11/17 19:45|                02/12/17 0:28|            2017-11-18|               2017-11-18|                          2017-12-02|     Sunday|            3|\n",
            "|  5|   delivered|               26.77|              23.11|              1|          Sao Paulo|            SP|                      40|                 41|                       451|                 1|           5|          13/02/18 21:18|  13/02/18 22:20|               16/02/18 18:17|            2018-02-13|               2018-02-13|                          2018-02-16|  Wednesday|            3|\n",
            "|  6|   delivered|               419.9|              23.02|              1|       Santa Adelia|            SP|                     159|                 46|                       692|                 3|           5|          09/07/17 21:57|  09/07/17 22:10|               26/07/17 10:57|            2017-07-09|               2017-07-09|                          2017-07-26|     Monday|            2|\n",
            "|  7|   delivered|                65.0|              16.21|              1|           Varginha|            MG|                     370|                 47|                       893|                 3|           5|          11/04/17 12:22|  13/04/17 13:25|               13/04/17 13:25|            2017-04-11|               2017-04-13|                          2017-04-13|  Wednesday|            3|\n",
            "|  8|   delivered|               29.99|              19.82|              1|          Sao Paulo|            SP|                      48|                 55|                       613|                 1|           4|          16/05/17 13:10|  16/05/17 13:22|               26/05/17 12:55|            2017-05-16|               2017-05-16|                          2017-05-26|  Wednesday|            3|\n",
            "|  9|   delivered|               59.99|              51.14|              1|            Carajas|            PA|                     685|                 28|                        96|                 4|           5|          23/01/17 18:29|   25/01/17 2:50|               02/02/17 14:08|            2017-01-23|               2017-01-25|                          2017-02-02|    Tuesday|            4|\n",
            "| 10|   delivered|               56.99|              16.13|              1|            Resende|            RJ|                     275|                 59|                       641|                 3|           5|          29/07/17 11:55|  29/07/17 12:05|               16/08/17 17:14|            2017-07-29|               2017-07-29|                          2017-08-16|     Sunday|            5|\n",
            "| 11|   delivered|               599.0|              15.69|              1|      Guaratingueta|            SP|                     125|                 43|                      1686|                 2|           4|          16/05/17 19:41|  16/05/17 19:50|               29/05/17 11:18|            2017-05-16|               2017-05-16|                          2017-05-29|  Wednesday|            3|\n",
            "| 12|   delivered|                62.0|              16.19|              1|            Tijucas|            SC|                     882|                 50|                       285|                 1|           4|          13/07/17 19:58|  13/07/17 20:10|               19/07/17 14:04|            2017-07-13|               2017-07-13|                          2017-07-19|     Friday|            3|\n",
            "| 13|   delivered|               250.0|              35.02|              1|           Mirassol|            SP|                     151|                 57|                       771|                 1|           1|          07/06/18 10:06|   09/06/18 3:13|               19/06/18 12:05|            2018-06-07|               2018-06-09|                          2018-06-19|     Friday|            2|\n",
            "| 14|   delivered|                69.9|              12.93|              1|          SAO PAULO|            SP|                      82|                 57|                       427|                 1|           4|          25/07/18 17:44|  25/07/18 17:55|               30/07/18 15:52|            2018-07-25|               2018-07-25|                          2018-07-30|   Thursday|            5|\n",
            "| 15|   delivered|               250.0|               16.5|              1|               Bage|            RS|                     964|                 55|                       255|                 1|           5|          01/03/18 14:14|  01/03/18 15:10|               12/03/18 23:36|            2018-03-01|               2018-03-01|                          2018-03-12|     Friday|            1|\n",
            "| 16|   delivered|                79.9|               7.82|              1|            Cubatao|            SP|                     115|                 33|                       484|                 3|           3|          07/06/18 19:03|  12/06/18 23:31|               21/06/18 15:34|            2018-06-07|               2018-06-12|                          2018-06-21|     Friday|            2|\n",
            "| 17|   delivered|                32.0|              19.41|              1|          Jaraguari|            MS|                     794|                 57|                       529|                 4|           4|          02/01/18 19:00|  02/01/18 19:09|                20/01/18 1:38|            2018-01-02|               2018-01-02|                          2018-01-20|  Wednesday|            1|\n",
            "| 18|   delivered|               287.7|              15.37|              1|Presidente Prudente|            SP|                     190|                 45|                      3793|                 2|           5|          26/12/17 23:41|  26/12/17 23:50|               08/01/18 22:36|            2017-12-26|               2017-12-26|                          2018-01-08|  Wednesday|            5|\n",
            "| 19|   delivered|               59.99|              15.18|              1|   Cidade Ocidental|            GO|                     728|                 44|                      1854|                 6|           3|           21/11/17 0:03|   21/11/17 0:14|               27/11/17 18:28|            2017-11-21|               2017-11-21|                          2017-11-27|  Wednesday|            4|\n",
            "| 20|   delivered|              1200.0|              60.76|              1|Sao Lourenco do Sul|            RS|                     961|                 55|                      3632|                 4|           4|          26/10/17 15:54|  26/10/17 16:08|               08/11/17 22:22|            2017-10-26|               2017-10-26|                          2017-11-08|     Friday|            5|\n",
            "+---+------------+--------------------+-------------------+---------------+-------------------+--------------+------------------------+-------------------+--------------------------+------------------+------------+------------------------+----------------+-----------------------------+----------------------+-------------------------+------------------------------------+-----------+-------------+\n",
            "only showing top 20 rows\n",
            "\n"
          ]
        }
      ]
    },
    {
      "cell_type": "code",
      "source": [
        "ecommerce_df.select(\"week_of_month\").distinct().show()"
      ],
      "metadata": {
        "colab": {
          "base_uri": "https://localhost:8080/"
        },
        "id": "DLDyn6Oc5Ok3",
        "outputId": "2f25c3ce-e019-43c0-aad4-ddcc247685f0"
      },
      "execution_count": 52,
      "outputs": [
        {
          "output_type": "stream",
          "name": "stdout",
          "text": [
            "+-------------+\n",
            "|week_of_month|\n",
            "+-------------+\n",
            "|            1|\n",
            "|            6|\n",
            "|            3|\n",
            "|            5|\n",
            "|            4|\n",
            "|            2|\n",
            "+-------------+\n",
            "\n"
          ]
        }
      ]
    },
    {
      "cell_type": "code",
      "source": [
        "ecommerce_df.printSchema()"
      ],
      "metadata": {
        "colab": {
          "base_uri": "https://localhost:8080/"
        },
        "id": "r7JasiBWHdo-",
        "outputId": "e6f1cb95-c96b-4098-ade7-4b1c66f4aaf1"
      },
      "execution_count": 53,
      "outputs": [
        {
          "output_type": "stream",
          "name": "stdout",
          "text": [
            "root\n",
            " |-- id: integer (nullable = true)\n",
            " |-- order_status: string (nullable = true)\n",
            " |-- order_products_value: float (nullable = true)\n",
            " |-- order_freight_value: float (nullable = true)\n",
            " |-- order_items_qty: integer (nullable = true)\n",
            " |-- customer_city: string (nullable = true)\n",
            " |-- customer_state: string (nullable = true)\n",
            " |-- customer_zip_code_prefix: integer (nullable = true)\n",
            " |-- product_name_lenght: integer (nullable = true)\n",
            " |-- product_description_lenght: integer (nullable = true)\n",
            " |-- product_photos_qty: integer (nullable = true)\n",
            " |-- review_score: integer (nullable = true)\n",
            " |-- order_purchase_timestamp: string (nullable = true)\n",
            " |-- order_aproved_at: string (nullable = true)\n",
            " |-- order_delivered_customer_date: string (nullable = true)\n",
            " |-- order_purchase_as_date: date (nullable = true)\n",
            " |-- order_approved_at_as_date: date (nullable = true)\n",
            " |-- order_delivery_customer_date_as_date: date (nullable = true)\n",
            " |-- day_of_week: string (nullable = true)\n",
            " |-- week_of_month: integer (nullable = true)\n",
            "\n"
          ]
        }
      ]
    },
    {
      "cell_type": "code",
      "source": [
        "ecommerce_datasets = {}"
      ],
      "metadata": {
        "id": "j4shc1QUp9Ui"
      },
      "execution_count": 72,
      "outputs": []
    },
    {
      "cell_type": "markdown",
      "source": [
        "# Insight on Sales"
      ],
      "metadata": {
        "id": "xVGlJbkVf8JI"
      }
    },
    {
      "cell_type": "code",
      "source": [
        "total_sales_df = ecommerce_df.agg(round(sum(\"order_products_value\"),2).alias(\"total_sales\"))\n",
        "total_sales_df.show()\n",
        "\n",
        "ecommerce_datasets[\"total_sales\"] = total_sales_df"
      ],
      "metadata": {
        "colab": {
          "base_uri": "https://localhost:8080/"
        },
        "id": "w1xwVVMiZoJ3",
        "outputId": "a96761b2-e7db-451b-8514-1cd0b85d44c2"
      },
      "execution_count": 73,
      "outputs": [
        {
          "output_type": "stream",
          "name": "stdout",
          "text": [
            "+-------------+\n",
            "|  total_sales|\n",
            "+-------------+\n",
            "|1.284147698E7|\n",
            "+-------------+\n",
            "\n"
          ]
        }
      ]
    },
    {
      "cell_type": "markdown",
      "source": [
        "## Sales by Day"
      ],
      "metadata": {
        "id": "p2_2VX9rgAqw"
      }
    },
    {
      "cell_type": "code",
      "source": [
        "total_sales_by_day_df = ecommerce_df.groupBy(\"day_of_week\").agg(round(sum(\"order_products_value\"),2).alias(\"total_sales\")).orderBy(\"total_sales\")\n",
        "total_sales_by_day_df.show()\n",
        "\n",
        "ecommerce_datasets[\"total_sales_by_day\"] = total_sales_by_day_df"
      ],
      "metadata": {
        "colab": {
          "base_uri": "https://localhost:8080/"
        },
        "id": "VwR1ht7THdje",
        "outputId": "0f3a5182-12c0-4f82-8178-5756197338b8"
      },
      "execution_count": 74,
      "outputs": [
        {
          "output_type": "stream",
          "name": "stdout",
          "text": [
            "+-----------+-----------+\n",
            "|day_of_week|total_sales|\n",
            "+-----------+-----------+\n",
            "|     Sunday| 1406302.11|\n",
            "|     Monday| 1530648.75|\n",
            "|   Saturday| 1811400.14|\n",
            "|     Friday| 1922774.44|\n",
            "|   Thursday| 1989730.72|\n",
            "|  Wednesday| 2077208.79|\n",
            "|    Tuesday| 2103412.03|\n",
            "+-----------+-----------+\n",
            "\n"
          ]
        }
      ]
    },
    {
      "cell_type": "code",
      "source": [
        "total_sales_by_day_and_city_df = ecommerce_df.groupBy(\"day_of_week\",\"customer_city\").agg(round(sum(\"order_products_value\"),2).alias(\"total_sales\")).orderBy(\"customer_city\")\n",
        "total_sales_by_day_and_city_df.show()\n",
        "\n",
        "ecommerce_datasets[\"total_sales_by_day_and_city\"] = total_sales_by_day_and_city_df"
      ],
      "metadata": {
        "colab": {
          "base_uri": "https://localhost:8080/"
        },
        "id": "68-YJPeBHdgW",
        "outputId": "f5dfc5ab-2400-4f91-c920-528972f637ea"
      },
      "execution_count": 75,
      "outputs": [
        {
          "output_type": "stream",
          "name": "stdout",
          "text": [
            "+-----------+--------------------+-----------+\n",
            "|day_of_week|       customer_city|total_sales|\n",
            "+-----------+--------------------+-----------+\n",
            "|     Friday|ALMIRANTE TAMANDA...|       49.9|\n",
            "|    Tuesday|ALMIRANTE TAMANDA...|      99.99|\n",
            "|     Sunday|ALTA FLORESTA D'O...|     708.99|\n",
            "|    Tuesday|ALTO ALEGRE DOS P...|      299.0|\n",
            "|     Sunday|ALTO ALEGRE DOS P...|      299.0|\n",
            "|     Monday|ALTO ALEGRE DOS P...|     314.99|\n",
            "|     Friday|    ALVORADA D'OESTE|      328.0|\n",
            "|    Tuesday|    ALVORADA D'OESTE|     359.98|\n",
            "|   Saturday| Abadia dos Dourados|       39.9|\n",
            "|    Tuesday| Abadia dos Dourados|      319.0|\n",
            "|    Tuesday|           Abadiania|       68.9|\n",
            "|     Friday|           Abadiania|     949.99|\n",
            "|   Thursday|              Abaete|     398.79|\n",
            "|    Tuesday|              Abaete|      449.0|\n",
            "|  Wednesday|              Abaete|      321.6|\n",
            "|     Friday|              Abaete|      56.99|\n",
            "|  Wednesday|          Abaetetuba|     435.41|\n",
            "|     Monday|          Abaetetuba|     115.99|\n",
            "|   Thursday|          Abaetetuba|     624.17|\n",
            "|   Saturday|          Abaetetuba|     1574.8|\n",
            "+-----------+--------------------+-----------+\n",
            "only showing top 20 rows\n",
            "\n"
          ]
        }
      ]
    },
    {
      "cell_type": "code",
      "source": [
        "total_sales_by_day_and_state_df = ecommerce_df.groupBy(\"day_of_week\",\"customer_state\").agg(round(sum(\"order_products_value\"),2).alias(\"total_sales\")).orderBy(\"customer_state\")\n",
        "total_sales_by_day_and_state_df.show()\n",
        "\n",
        "ecommerce_datasets[\"total_sales_by_day_and_state\"] = total_sales_by_day_and_state_df"
      ],
      "metadata": {
        "colab": {
          "base_uri": "https://localhost:8080/"
        },
        "id": "f2UtJeaLefRQ",
        "outputId": "720b0f8e-c150-4229-f4b9-76f49d65c639"
      },
      "execution_count": 76,
      "outputs": [
        {
          "output_type": "stream",
          "name": "stdout",
          "text": [
            "+-----------+--------------+-----------+\n",
            "|day_of_week|customer_state|total_sales|\n",
            "+-----------+--------------+-----------+\n",
            "|   Thursday|            AC|    2862.77|\n",
            "|     Monday|            AC|     627.57|\n",
            "|     Sunday|            AC|     853.49|\n",
            "|     Friday|            AC|    2542.04|\n",
            "|   Saturday|            AC|    3987.15|\n",
            "|  Wednesday|            AC|    3478.97|\n",
            "|    Tuesday|            AC|    2548.83|\n",
            "|   Saturday|            AL|    7661.65|\n",
            "|     Sunday|            AL|    8837.77|\n",
            "|     Monday|            AL|   13089.56|\n",
            "|    Tuesday|            AL|   14769.35|\n",
            "|  Wednesday|            AL|   10002.48|\n",
            "|     Friday|            AL|   11160.45|\n",
            "|   Thursday|            AL|   12779.28|\n",
            "|     Sunday|            AM|    2519.56|\n",
            "|     Friday|            AM|    2063.87|\n",
            "|  Wednesday|            AM|    2145.55|\n",
            "|   Saturday|            AM|    3192.41|\n",
            "|     Monday|            AM|     3949.5|\n",
            "|   Thursday|            AM|    2505.38|\n",
            "+-----------+--------------+-----------+\n",
            "only showing top 20 rows\n",
            "\n"
          ]
        }
      ]
    },
    {
      "cell_type": "markdown",
      "source": [
        "## Sales by Week"
      ],
      "metadata": {
        "id": "LVmGYV1JgJ74"
      }
    },
    {
      "cell_type": "code",
      "source": [
        "total_sales_by_week_df = ecommerce_df.groupBy(\"week_of_month\").agg(round(sum(\"order_products_value\"),2).alias(\"total_sales\")).orderBy(\"week_of_month\")\n",
        "total_sales_by_week_df.show()\n",
        "\n",
        "ecommerce_datasets[\"total_sales_by_week\"] = total_sales_by_week_df"
      ],
      "metadata": {
        "colab": {
          "base_uri": "https://localhost:8080/"
        },
        "id": "4cAT_xoUekKv",
        "outputId": "f951e0bd-0ace-4c50-86fc-da65ecf00d0e"
      },
      "execution_count": 77,
      "outputs": [
        {
          "output_type": "stream",
          "name": "stdout",
          "text": [
            "+-------------+-----------+\n",
            "|week_of_month|total_sales|\n",
            "+-------------+-----------+\n",
            "|            1| 1542155.29|\n",
            "|            2| 3089498.12|\n",
            "|            3|  2957336.5|\n",
            "|            4| 3027674.28|\n",
            "|            5| 2058842.95|\n",
            "|            6|  165969.84|\n",
            "+-------------+-----------+\n",
            "\n"
          ]
        }
      ]
    },
    {
      "cell_type": "code",
      "source": [
        "total_sales_by_week_and_city_df = ecommerce_df.groupBy(\"week_of_month\",\"customer_city\").agg(round(sum(\"order_products_value\"),2).alias(\"total_sales\")).orderBy(\"customer_city\")\n",
        "total_sales_by_week_and_city_df.show()\n",
        "\n",
        "ecommerce_datasets[\"total_sales_by_week_and_city\"] = total_sales_by_week_and_city_df"
      ],
      "metadata": {
        "colab": {
          "base_uri": "https://localhost:8080/"
        },
        "id": "t3L4a5vlefKP",
        "outputId": "1a341096-e190-4cbd-eaca-c3d0b971e6a2"
      },
      "execution_count": 78,
      "outputs": [
        {
          "output_type": "stream",
          "name": "stdout",
          "text": [
            "+-------------+--------------------+-----------+\n",
            "|week_of_month|       customer_city|total_sales|\n",
            "+-------------+--------------------+-----------+\n",
            "|            2|ALMIRANTE TAMANDA...|      99.99|\n",
            "|            5|ALMIRANTE TAMANDA...|       49.9|\n",
            "|            4|ALTA FLORESTA D'O...|     349.99|\n",
            "|            1|ALTA FLORESTA D'O...|      359.0|\n",
            "|            3|ALTO ALEGRE DOS P...|      299.0|\n",
            "|            4|ALTO ALEGRE DOS P...|     613.99|\n",
            "|            1|    ALVORADA D'OESTE|      328.0|\n",
            "|            5|    ALVORADA D'OESTE|     359.98|\n",
            "|            3| Abadia dos Dourados|      358.9|\n",
            "|            1|           Abadiania|     949.99|\n",
            "|            5|           Abadiania|       68.9|\n",
            "|            5|              Abaete|      515.7|\n",
            "|            1|              Abaete|      69.99|\n",
            "|            4|              Abaete|     176.89|\n",
            "|            3|              Abaete|      208.9|\n",
            "|            2|              Abaete|      254.9|\n",
            "|            1|          Abaetetuba|     134.99|\n",
            "|            4|          Abaetetuba|       63.8|\n",
            "|            3|          Abaetetuba|    2410.96|\n",
            "|            2|          Abaetetuba|     305.51|\n",
            "+-------------+--------------------+-----------+\n",
            "only showing top 20 rows\n",
            "\n"
          ]
        }
      ]
    },
    {
      "cell_type": "code",
      "source": [
        "total_sales_by_week_and_state_df = ecommerce_df.groupBy(\"week_of_month\",\"customer_state\").agg(round(sum(\"order_products_value\"),2).alias(\"total_sales\")).orderBy(\"customer_state\")\n",
        "total_sales_by_week_and_state_df.show()\n",
        "\n",
        "ecommerce_datasets[\"total_sales_by_week_and_state\"] = total_sales_by_week_and_state_df"
      ],
      "metadata": {
        "colab": {
          "base_uri": "https://localhost:8080/"
        },
        "id": "rLciwu3oHddX",
        "outputId": "0f6fed7e-5773-4de0-db76-d656df472a81"
      },
      "execution_count": 79,
      "outputs": [
        {
          "output_type": "stream",
          "name": "stdout",
          "text": [
            "+-------------+--------------+-----------+\n",
            "|week_of_month|customer_state|total_sales|\n",
            "+-------------+--------------+-----------+\n",
            "|            1|            AC|     3787.2|\n",
            "|            4|            AC|    2092.61|\n",
            "|            5|            AC|    4023.55|\n",
            "|            3|            AC|    4034.82|\n",
            "|            6|            AC|      699.0|\n",
            "|            2|            AC|    2263.64|\n",
            "|            6|            AL|    1057.29|\n",
            "|            4|            AL|   18700.29|\n",
            "|            1|            AL|    7343.29|\n",
            "|            3|            AL|   17451.02|\n",
            "|            2|            AL|   19961.02|\n",
            "|            5|            AL|   13787.63|\n",
            "|            4|            AM|    5775.42|\n",
            "|            3|            AM|    5308.23|\n",
            "|            5|            AM|     1554.8|\n",
            "|            2|            AM|    6492.69|\n",
            "|            6|            AM|      255.4|\n",
            "|            1|            AM|    2789.03|\n",
            "|            2|            AP|    5580.18|\n",
            "|            5|            AP|    2929.67|\n",
            "+-------------+--------------+-----------+\n",
            "only showing top 20 rows\n",
            "\n"
          ]
        }
      ]
    },
    {
      "cell_type": "markdown",
      "source": [
        "# Insights on Orders"
      ],
      "metadata": {
        "id": "FcitA0eCfu-L"
      }
    },
    {
      "cell_type": "code",
      "source": [
        "total_order_df = ecommerce_df.agg(count(\"id\").alias(\"total_orders\"))\n",
        "total_order_df.show()\n",
        "\n",
        "ecommerce_datasets[\"total_orders\"] = total_order_df"
      ],
      "metadata": {
        "colab": {
          "base_uri": "https://localhost:8080/"
        },
        "id": "Zd5xNJSsHdZ5",
        "outputId": "05c227cb-ef51-42e2-9f47-ba160c0c92f8"
      },
      "execution_count": 80,
      "outputs": [
        {
          "output_type": "stream",
          "name": "stdout",
          "text": [
            "+------------+\n",
            "|total_orders|\n",
            "+------------+\n",
            "|      100000|\n",
            "+------------+\n",
            "\n"
          ]
        }
      ]
    },
    {
      "cell_type": "markdown",
      "source": [
        "## Orders by Day"
      ],
      "metadata": {
        "id": "RqI5eI23ixuY"
      }
    },
    {
      "cell_type": "code",
      "source": [
        "total_order_by_day_df = ecommerce_df.groupBy(\"day_of_week\").agg(count(\"id\").alias(\"total_orders\")).orderBy(\"total_orders\")\n",
        "total_order_by_day_df.show()\n",
        "\n",
        "ecommerce_datasets[\"total_orders_by_day\"] = total_order_by_day_df"
      ],
      "metadata": {
        "colab": {
          "base_uri": "https://localhost:8080/"
        },
        "id": "A2hLP4lLHdWO",
        "outputId": "9ee8df3f-b537-438f-b12a-c70bd211014f"
      },
      "execution_count": 81,
      "outputs": [
        {
          "output_type": "stream",
          "name": "stdout",
          "text": [
            "+-----------+------------+\n",
            "|day_of_week|total_orders|\n",
            "+-----------+------------+\n",
            "|     Sunday|       10944|\n",
            "|     Monday|       12034|\n",
            "|   Saturday|       14199|\n",
            "|     Friday|       14857|\n",
            "|   Thursday|       15634|\n",
            "|  Wednesday|       16045|\n",
            "|    Tuesday|       16287|\n",
            "+-----------+------------+\n",
            "\n"
          ]
        }
      ]
    },
    {
      "cell_type": "code",
      "source": [
        "total_order_by_day_and_city_df = ecommerce_df.groupBy(\"day_of_week\",\"customer_city\").agg(count(\"id\").alias(\"total_orders\")).orderBy(\"customer_city\")\n",
        "total_order_by_day_and_city_df.show()\n",
        "\n",
        "ecommerce_datasets[\"total_orders_by_day_and_city\"] = total_order_by_day_and_city_df"
      ],
      "metadata": {
        "colab": {
          "base_uri": "https://localhost:8080/"
        },
        "id": "uyRcgOGcHdSv",
        "outputId": "a8ae1fde-a5e1-434c-decf-1589edaabba5"
      },
      "execution_count": 82,
      "outputs": [
        {
          "output_type": "stream",
          "name": "stdout",
          "text": [
            "+-----------+--------------------+------------+\n",
            "|day_of_week|       customer_city|total_orders|\n",
            "+-----------+--------------------+------------+\n",
            "|     Friday|ALMIRANTE TAMANDA...|           1|\n",
            "|    Tuesday|ALMIRANTE TAMANDA...|           1|\n",
            "|     Sunday|ALTA FLORESTA D'O...|           2|\n",
            "|    Tuesday|ALTO ALEGRE DOS P...|           1|\n",
            "|     Sunday|ALTO ALEGRE DOS P...|           1|\n",
            "|     Monday|ALTO ALEGRE DOS P...|           1|\n",
            "|     Friday|    ALVORADA D'OESTE|           1|\n",
            "|    Tuesday|    ALVORADA D'OESTE|           1|\n",
            "|   Saturday| Abadia dos Dourados|           1|\n",
            "|    Tuesday| Abadia dos Dourados|           2|\n",
            "|    Tuesday|           Abadiania|           1|\n",
            "|     Friday|           Abadiania|           1|\n",
            "|   Thursday|              Abaete|           3|\n",
            "|    Tuesday|              Abaete|           1|\n",
            "|  Wednesday|              Abaete|           3|\n",
            "|     Friday|              Abaete|           1|\n",
            "|  Wednesday|          Abaetetuba|           3|\n",
            "|     Monday|          Abaetetuba|           2|\n",
            "|   Thursday|          Abaetetuba|           2|\n",
            "|   Saturday|          Abaetetuba|           3|\n",
            "+-----------+--------------------+------------+\n",
            "only showing top 20 rows\n",
            "\n"
          ]
        }
      ]
    },
    {
      "cell_type": "code",
      "source": [
        "total_order_by_day_and_state_df = ecommerce_df.groupBy(\"day_of_week\",\"customer_state\").agg(count(\"id\").alias(\"total_orders\")).orderBy(\"customer_state\")\n",
        "total_order_by_day_and_state_df.show()\n",
        "\n",
        "ecommerce_datasets[\"total_orders_by_day_and_state\"] = total_order_by_day_and_state_df"
      ],
      "metadata": {
        "colab": {
          "base_uri": "https://localhost:8080/"
        },
        "id": "9h7t97NzHdK_",
        "outputId": "99a4d280-034a-4632-e72a-76270596f99b"
      },
      "execution_count": 83,
      "outputs": [
        {
          "output_type": "stream",
          "name": "stdout",
          "text": [
            "+-----------+--------------+------------+\n",
            "|day_of_week|customer_state|total_orders|\n",
            "+-----------+--------------+------------+\n",
            "|   Thursday|            AC|          10|\n",
            "|     Monday|            AC|           7|\n",
            "|     Sunday|            AC|          11|\n",
            "|     Friday|            AC|          15|\n",
            "|   Saturday|            AC|          16|\n",
            "|  Wednesday|            AC|          13|\n",
            "|    Tuesday|            AC|          12|\n",
            "|   Saturday|            AL|          53|\n",
            "|     Sunday|            AL|          54|\n",
            "|     Monday|            AL|          59|\n",
            "|    Tuesday|            AL|          80|\n",
            "|  Wednesday|            AL|          52|\n",
            "|     Friday|            AL|          71|\n",
            "|   Thursday|            AL|          65|\n",
            "|     Sunday|            AM|          21|\n",
            "|     Friday|            AM|          12|\n",
            "|  Wednesday|            AM|          22|\n",
            "|   Saturday|            AM|          21|\n",
            "|     Monday|            AM|          20|\n",
            "|   Thursday|            AM|          28|\n",
            "+-----------+--------------+------------+\n",
            "only showing top 20 rows\n",
            "\n"
          ]
        }
      ]
    },
    {
      "cell_type": "markdown",
      "source": [
        "## Orders by Week"
      ],
      "metadata": {
        "id": "8UcJ7L40i2Oo"
      }
    },
    {
      "cell_type": "code",
      "source": [
        "total_order_by_week_df = ecommerce_df.groupBy(\"week_of_month\").agg(count(\"id\").alias(\"total_orders\")).orderBy(\"week_of_month\")\n",
        "total_order_by_week_df.show()\n",
        "\n",
        "ecommerce_datasets[\"total_orders_by_week\"] = total_order_by_week_df"
      ],
      "metadata": {
        "colab": {
          "base_uri": "https://localhost:8080/"
        },
        "id": "ZW03Rtx-i5qb",
        "outputId": "9ff4b275-a4ef-4eed-ccb7-c52815066543"
      },
      "execution_count": 84,
      "outputs": [
        {
          "output_type": "stream",
          "name": "stdout",
          "text": [
            "+-------------+------------+\n",
            "|week_of_month|total_orders|\n",
            "+-------------+------------+\n",
            "|            1|       12202|\n",
            "|            2|       23676|\n",
            "|            3|       23255|\n",
            "|            4|       23392|\n",
            "|            5|       16160|\n",
            "|            6|        1315|\n",
            "+-------------+------------+\n",
            "\n"
          ]
        }
      ]
    },
    {
      "cell_type": "code",
      "source": [
        "total_order_by_week_and_city_df = ecommerce_df.groupBy(\"week_of_month\",\"customer_city\").agg(count(\"id\").alias(\"total_orders\")).orderBy(\"customer_city\")\n",
        "total_order_by_week_and_city_df.show()\n",
        "\n",
        "ecommerce_datasets[\"total_orders_by_week_and_city\"] = total_order_by_week_and_city_df"
      ],
      "metadata": {
        "colab": {
          "base_uri": "https://localhost:8080/"
        },
        "id": "HYmIJbRpl77n",
        "outputId": "377bd97b-1949-4158-fe85-3415c18881ea"
      },
      "execution_count": 85,
      "outputs": [
        {
          "output_type": "stream",
          "name": "stdout",
          "text": [
            "+-------------+--------------------+------------+\n",
            "|week_of_month|       customer_city|total_orders|\n",
            "+-------------+--------------------+------------+\n",
            "|            2|ALMIRANTE TAMANDA...|           1|\n",
            "|            5|ALMIRANTE TAMANDA...|           1|\n",
            "|            4|ALTA FLORESTA D'O...|           1|\n",
            "|            1|ALTA FLORESTA D'O...|           1|\n",
            "|            3|ALTO ALEGRE DOS P...|           1|\n",
            "|            4|ALTO ALEGRE DOS P...|           2|\n",
            "|            1|    ALVORADA D'OESTE|           1|\n",
            "|            5|    ALVORADA D'OESTE|           1|\n",
            "|            3| Abadia dos Dourados|           3|\n",
            "|            1|           Abadiania|           1|\n",
            "|            5|           Abadiania|           1|\n",
            "|            5|              Abaete|           3|\n",
            "|            1|              Abaete|           1|\n",
            "|            4|              Abaete|           2|\n",
            "|            3|              Abaete|           1|\n",
            "|            2|              Abaete|           1|\n",
            "|            1|          Abaetetuba|           1|\n",
            "|            4|          Abaetetuba|           2|\n",
            "|            3|          Abaetetuba|           7|\n",
            "|            2|          Abaetetuba|           2|\n",
            "+-------------+--------------------+------------+\n",
            "only showing top 20 rows\n",
            "\n"
          ]
        }
      ]
    },
    {
      "cell_type": "code",
      "source": [
        "total_order_by_week_and_state_df = ecommerce_df.groupBy(\"week_of_month\",\"customer_state\").agg(count(\"id\").alias(\"total_orders\")).orderBy(\"customer_state\")\n",
        "total_order_by_week_and_state_df.show()\n",
        "\n",
        "ecommerce_datasets[\"total_orders_by_week_and_state\"] = total_order_by_week_and_state_df"
      ],
      "metadata": {
        "colab": {
          "base_uri": "https://localhost:8080/"
        },
        "id": "0Df3chqAl7y_",
        "outputId": "8ccf05f5-e34b-40ee-9016-e3954a6f77cc"
      },
      "execution_count": 86,
      "outputs": [
        {
          "output_type": "stream",
          "name": "stdout",
          "text": [
            "+-------------+--------------+------------+\n",
            "|week_of_month|customer_state|total_orders|\n",
            "+-------------+--------------+------------+\n",
            "|            1|            AC|          15|\n",
            "|            4|            AC|          20|\n",
            "|            5|            AC|          15|\n",
            "|            3|            AC|          20|\n",
            "|            6|            AC|           1|\n",
            "|            2|            AC|          13|\n",
            "|            6|            AL|           4|\n",
            "|            4|            AL|         104|\n",
            "|            1|            AL|          52|\n",
            "|            3|            AL|         113|\n",
            "|            2|            AL|          89|\n",
            "|            5|            AL|          72|\n",
            "|            4|            AM|          41|\n",
            "|            3|            AM|          30|\n",
            "|            5|            AM|          18|\n",
            "|            2|            AM|          41|\n",
            "|            6|            AM|           2|\n",
            "|            1|            AM|          22|\n",
            "|            2|            AP|          25|\n",
            "|            5|            AP|          14|\n",
            "+-------------+--------------+------------+\n",
            "only showing top 20 rows\n",
            "\n"
          ]
        }
      ]
    },
    {
      "cell_type": "markdown",
      "source": [
        "# Average of Misc. Columns"
      ],
      "metadata": {
        "id": "3MgwOnhCo3c4"
      }
    },
    {
      "cell_type": "markdown",
      "source": [
        "## By Day"
      ],
      "metadata": {
        "id": "vYk4ZwWNpJYh"
      }
    },
    {
      "cell_type": "code",
      "source": [
        "average_review_score_by_day_df = ecommerce_df.groupBy(\"day_of_week\").agg(round(avg(\"review_score\"),2).alias(\"average_review_score\")).orderBy(\"average_review_score\")\n",
        "average_review_score_by_day_df.show()\n",
        "\n",
        "ecommerce_datasets[\"average_review_score_by_day\"] = average_review_score_by_day_df"
      ],
      "metadata": {
        "colab": {
          "base_uri": "https://localhost:8080/"
        },
        "id": "pzskBRmvoYKr",
        "outputId": "a3ba3138-594b-4442-a59c-e0bb33785d42"
      },
      "execution_count": 99,
      "outputs": [
        {
          "output_type": "stream",
          "name": "stdout",
          "text": [
            "+-----------+--------------------+\n",
            "|day_of_week|average_review_score|\n",
            "+-----------+--------------------+\n",
            "|    Tuesday|                4.04|\n",
            "|     Friday|                4.04|\n",
            "|  Wednesday|                4.05|\n",
            "|   Saturday|                4.05|\n",
            "|     Sunday|                4.05|\n",
            "|   Thursday|                4.06|\n",
            "|     Monday|                4.06|\n",
            "+-----------+--------------------+\n",
            "\n"
          ]
        }
      ]
    },
    {
      "cell_type": "code",
      "source": [
        "average_freight_value_by_day_df = ecommerce_df.groupBy(\"day_of_week\").agg(round(avg(\"order_freight_value\"),2).alias(\"average_freight_value\")).orderBy(\"average_freight_value\")\n",
        "average_freight_value_by_day_df.show()\n",
        "\n",
        "ecommerce_datasets[\"average_freight_value_by_day\"] = average_freight_value_by_day_df"
      ],
      "metadata": {
        "colab": {
          "base_uri": "https://localhost:8080/"
        },
        "id": "6QcqfR0vo4fs",
        "outputId": "64843a47-d397-4c93-a6bb-647b7cd59220"
      },
      "execution_count": 101,
      "outputs": [
        {
          "output_type": "stream",
          "name": "stdout",
          "text": [
            "+-----------+---------------------+\n",
            "|day_of_week|average_freight_value|\n",
            "+-----------+---------------------+\n",
            "|     Monday|                21.49|\n",
            "|    Tuesday|                 21.5|\n",
            "|  Wednesday|                 21.7|\n",
            "|   Saturday|                21.79|\n",
            "|   Thursday|                21.85|\n",
            "|     Friday|                21.92|\n",
            "|     Sunday|                21.98|\n",
            "+-----------+---------------------+\n",
            "\n"
          ]
        }
      ]
    },
    {
      "cell_type": "markdown",
      "source": [],
      "metadata": {
        "id": "fEeiJ0-YOYUP"
      }
    },
    {
      "cell_type": "code",
      "source": [
        "ecommerce_df = ecommerce_df.withColumn(\"time_to_approve_order\",col(\"order_approved_at_as_datetime\").cast(\"long\") - col('order_purchase_as_datetime').cast(\"long\"))\n",
        "ecommerce_df = ecommerce_df.withColumn(\"time_to_deliver_order\",col(\"order_delivery_customer_date_as_datetime\").cast(\"long\") - col('order_purchase_as_datetime').cast(\"long\"))\n",
        "ecommerce_df.show()"
      ],
      "metadata": {
        "colab": {
          "base_uri": "https://localhost:8080/"
        },
        "id": "-WodCTE0Rhj1",
        "outputId": "ab7a792a-0788-457d-fb1d-87f0978d0761"
      },
      "execution_count": 115,
      "outputs": [
        {
          "output_type": "stream",
          "name": "stdout",
          "text": [
            "+---+------------+--------------------+-------------------+---------------+-------------------+--------------+------------------------+-------------------+--------------------------+------------------+------------+------------------------+----------------+-----------------------------+----------------------+-------------------------+------------------------------------+-----------+-------------+--------------------------+-----------------------------+----------------------------------------+---------------------+---------------------+\n",
            "| id|order_status|order_products_value|order_freight_value|order_items_qty|      customer_city|customer_state|customer_zip_code_prefix|product_name_lenght|product_description_lenght|product_photos_qty|review_score|order_purchase_timestamp|order_aproved_at|order_delivered_customer_date|order_purchase_as_date|order_approved_at_as_date|order_delivery_customer_date_as_date|day_of_week|week_of_month|order_purchase_as_datetime|order_approved_at_as_datetime|order_delivery_customer_date_as_datetime|time_to_approve_order|time_to_deliver_order|\n",
            "+---+------------+--------------------+-------------------+---------------+-------------------+--------------+------------------------+-------------------+--------------------------+------------------+------------+------------------------+----------------+-----------------------------+----------------------+-------------------------+------------------------------------+-----------+-------------+--------------------------+-----------------------------+----------------------------------------+---------------------+---------------------+\n",
            "|  1|   delivered|                79.0|               17.8|              1|           Luziania|            GO|                     728|                 50|                       201|                 2|           5|          02/10/17 10:56|  02/10/17 11:07|               10/10/17 21:25|            2017-10-02|               2017-10-02|                          2017-10-10|    Tuesday|            2|       2017-10-02 10:56:00|          2017-10-02 11:07:00|                     2017-10-10 21:25:00|                  660|               728940|\n",
            "|  2|   delivered|               119.9|              27.16|              1|          Joinville|            SC|                     892|                 50|                       511|                 3|           5|          24/07/18 20:41|   26/07/18 3:24|               07/08/18 15:27|            2018-07-24|               2018-07-26|                          2018-08-07|  Wednesday|            5|       2018-07-24 20:41:00|          2018-07-26 03:24:00|                     2018-08-07 15:27:00|               110580|              1190760|\n",
            "|  3|   delivered|              519.99|              41.69|              1|              Serra|            ES|                     291|                 48|                      1156|                 2|           1|           08/08/18 8:38|   08/08/18 8:55|               17/08/18 18:06|            2018-08-08|               2018-08-08|                          2018-08-17|   Thursday|            2|       2018-08-08 08:38:00|          2018-08-08 08:55:00|                     2018-08-17 18:06:00|                 1020|               811680|\n",
            "|  4|   delivered|                29.5|              17.92|              1|     RIO DE JANEIRO|            RJ|                     222|                 21|                       207|                 2|           4|          18/11/17 19:28|  18/11/17 19:45|                02/12/17 0:28|            2017-11-18|               2017-11-18|                          2017-12-02|     Sunday|            3|       2017-11-18 19:28:00|          2017-11-18 19:45:00|                     2017-12-02 00:28:00|                 1020|              1141200|\n",
            "|  5|   delivered|               26.77|              23.11|              1|          Sao Paulo|            SP|                      40|                 41|                       451|                 1|           5|          13/02/18 21:18|  13/02/18 22:20|               16/02/18 18:17|            2018-02-13|               2018-02-13|                          2018-02-16|  Wednesday|            3|       2018-02-13 21:18:00|          2018-02-13 22:20:00|                     2018-02-16 18:17:00|                 3720|               248340|\n",
            "|  6|   delivered|               419.9|              23.02|              1|       Santa Adelia|            SP|                     159|                 46|                       692|                 3|           5|          09/07/17 21:57|  09/07/17 22:10|               26/07/17 10:57|            2017-07-09|               2017-07-09|                          2017-07-26|     Monday|            2|       2017-07-09 21:57:00|          2017-07-09 22:10:00|                     2017-07-26 10:57:00|                  780|              1429200|\n",
            "|  7|   delivered|                65.0|              16.21|              1|           Varginha|            MG|                     370|                 47|                       893|                 3|           5|          11/04/17 12:22|  13/04/17 13:25|               13/04/17 13:25|            2017-04-11|               2017-04-13|                          2017-04-13|  Wednesday|            3|       2017-04-11 12:22:00|          2017-04-13 13:25:00|                     2017-04-13 13:25:00|               176580|               176580|\n",
            "|  8|   delivered|               29.99|              19.82|              1|          Sao Paulo|            SP|                      48|                 55|                       613|                 1|           4|          16/05/17 13:10|  16/05/17 13:22|               26/05/17 12:55|            2017-05-16|               2017-05-16|                          2017-05-26|  Wednesday|            3|       2017-05-16 13:10:00|          2017-05-16 13:22:00|                     2017-05-26 12:55:00|                  720|               863100|\n",
            "|  9|   delivered|               59.99|              51.14|              1|            Carajas|            PA|                     685|                 28|                        96|                 4|           5|          23/01/17 18:29|   25/01/17 2:50|               02/02/17 14:08|            2017-01-23|               2017-01-25|                          2017-02-02|    Tuesday|            4|       2017-01-23 18:29:00|          2017-01-25 02:50:00|                     2017-02-02 14:08:00|               116460|               848340|\n",
            "| 10|   delivered|               56.99|              16.13|              1|            Resende|            RJ|                     275|                 59|                       641|                 3|           5|          29/07/17 11:55|  29/07/17 12:05|               16/08/17 17:14|            2017-07-29|               2017-07-29|                          2017-08-16|     Sunday|            5|       2017-07-29 11:55:00|          2017-07-29 12:05:00|                     2017-08-16 17:14:00|                  600|              1574340|\n",
            "| 11|   delivered|               599.0|              15.69|              1|      Guaratingueta|            SP|                     125|                 43|                      1686|                 2|           4|          16/05/17 19:41|  16/05/17 19:50|               29/05/17 11:18|            2017-05-16|               2017-05-16|                          2017-05-29|  Wednesday|            3|       2017-05-16 19:41:00|          2017-05-16 19:50:00|                     2017-05-29 11:18:00|                  540|              1093020|\n",
            "| 12|   delivered|                62.0|              16.19|              1|            Tijucas|            SC|                     882|                 50|                       285|                 1|           4|          13/07/17 19:58|  13/07/17 20:10|               19/07/17 14:04|            2017-07-13|               2017-07-13|                          2017-07-19|     Friday|            3|       2017-07-13 19:58:00|          2017-07-13 20:10:00|                     2017-07-19 14:04:00|                  720|               497160|\n",
            "| 13|   delivered|               250.0|              35.02|              1|           Mirassol|            SP|                     151|                 57|                       771|                 1|           1|          07/06/18 10:06|   09/06/18 3:13|               19/06/18 12:05|            2018-06-07|               2018-06-09|                          2018-06-19|     Friday|            2|       2018-06-07 10:06:00|          2018-06-09 03:13:00|                     2018-06-19 12:05:00|               148020|              1043940|\n",
            "| 14|   delivered|                69.9|              12.93|              1|          SAO PAULO|            SP|                      82|                 57|                       427|                 1|           4|          25/07/18 17:44|  25/07/18 17:55|               30/07/18 15:52|            2018-07-25|               2018-07-25|                          2018-07-30|   Thursday|            5|       2018-07-25 17:44:00|          2018-07-25 17:55:00|                     2018-07-30 15:52:00|                  660|               425280|\n",
            "| 15|   delivered|               250.0|               16.5|              1|               Bage|            RS|                     964|                 55|                       255|                 1|           5|          01/03/18 14:14|  01/03/18 15:10|               12/03/18 23:36|            2018-03-01|               2018-03-01|                          2018-03-12|     Friday|            1|       2018-03-01 14:14:00|          2018-03-01 15:10:00|                     2018-03-12 23:36:00|                 3360|               984120|\n",
            "| 16|   delivered|                79.9|               7.82|              1|            Cubatao|            SP|                     115|                 33|                       484|                 3|           3|          07/06/18 19:03|  12/06/18 23:31|               21/06/18 15:34|            2018-06-07|               2018-06-12|                          2018-06-21|     Friday|            2|       2018-06-07 19:03:00|          2018-06-12 23:31:00|                     2018-06-21 15:34:00|               448080|              1197060|\n",
            "| 17|   delivered|                32.0|              19.41|              1|          Jaraguari|            MS|                     794|                 57|                       529|                 4|           4|          02/01/18 19:00|  02/01/18 19:09|                20/01/18 1:38|            2018-01-02|               2018-01-02|                          2018-01-20|  Wednesday|            1|       2018-01-02 19:00:00|          2018-01-02 19:09:00|                     2018-01-20 01:38:00|                  540|              1492680|\n",
            "| 18|   delivered|               287.7|              15.37|              1|Presidente Prudente|            SP|                     190|                 45|                      3793|                 2|           5|          26/12/17 23:41|  26/12/17 23:50|               08/01/18 22:36|            2017-12-26|               2017-12-26|                          2018-01-08|  Wednesday|            5|       2017-12-26 23:41:00|          2017-12-26 23:50:00|                     2018-01-08 22:36:00|                  540|              1119300|\n",
            "| 19|   delivered|               59.99|              15.18|              1|   Cidade Ocidental|            GO|                     728|                 44|                      1854|                 6|           3|           21/11/17 0:03|   21/11/17 0:14|               27/11/17 18:28|            2017-11-21|               2017-11-21|                          2017-11-27|  Wednesday|            4|       2017-11-21 00:03:00|          2017-11-21 00:14:00|                     2017-11-27 18:28:00|                  660|               584700|\n",
            "| 20|   delivered|              1200.0|              60.76|              1|Sao Lourenco do Sul|            RS|                     961|                 55|                      3632|                 4|           4|          26/10/17 15:54|  26/10/17 16:08|               08/11/17 22:22|            2017-10-26|               2017-10-26|                          2017-11-08|     Friday|            5|       2017-10-26 15:54:00|          2017-10-26 16:08:00|                     2017-11-08 22:22:00|                  840|              1146480|\n",
            "+---+------------+--------------------+-------------------+---------------+-------------------+--------------+------------------------+-------------------+--------------------------+------------------+------------+------------------------+----------------+-----------------------------+----------------------+-------------------------+------------------------------------+-----------+-------------+--------------------------+-----------------------------+----------------------------------------+---------------------+---------------------+\n",
            "only showing top 20 rows\n",
            "\n"
          ]
        }
      ]
    },
    {
      "cell_type": "code",
      "source": [
        "average_time_to_approve_order_by_day_df = ecommerce_df.groupBy(\"day_of_week\").agg(round(avg(\"time_to_approve_order\"),2).alias(\"average_time_to_approve_order\")).orderBy(\"average_time_to_approve_order\")\n",
        "average_time_to_approve_order_by_day_df.show()\n",
        "\n",
        "ecommerce_datasets[\"average_time_to_approve_order_by_day\"] = average_time_to_approve_order_by_day_df"
      ],
      "metadata": {
        "colab": {
          "base_uri": "https://localhost:8080/"
        },
        "id": "UJgKySJxDys-",
        "outputId": "8ebf1576-481d-4508-e8d7-59602085835f"
      },
      "execution_count": 117,
      "outputs": [
        {
          "output_type": "stream",
          "name": "stdout",
          "text": [
            "+-----------+-----------------------------+\n",
            "|day_of_week|average_time_to_approve_order|\n",
            "+-----------+-----------------------------+\n",
            "|   Thursday|                     31410.68|\n",
            "|     Friday|                     31577.61|\n",
            "|  Wednesday|                     32383.93|\n",
            "|    Tuesday|                     33473.55|\n",
            "|     Monday|                     38871.57|\n",
            "|   Saturday|                     48351.09|\n",
            "|     Sunday|                     52226.07|\n",
            "+-----------+-----------------------------+\n",
            "\n"
          ]
        }
      ]
    },
    {
      "cell_type": "code",
      "source": [
        "average_time_to_deliver_order_by_day_df = ecommerce_df.groupBy(\"day_of_week\").agg(round(avg(\"time_to_deliver_order\"),2).alias(\"average_time_to_approve_order\")).orderBy(\"average_time_to_approve_order\")\n",
        "average_time_to_deliver_order_by_day_df.show()\n",
        "\n",
        "ecommerce_datasets[\"average_time_to_deliver_order_by_day\"] = average_time_to_deliver_order_by_day_df"
      ],
      "metadata": {
        "colab": {
          "base_uri": "https://localhost:8080/"
        },
        "id": "wHokqRTVD063",
        "outputId": "2b452b36-c24c-4a87-dc34-f1537c5c7f36"
      },
      "execution_count": 116,
      "outputs": [
        {
          "output_type": "stream",
          "name": "stdout",
          "text": [
            "+-----------+-----------------------------+\n",
            "|day_of_week|average_time_to_approve_order|\n",
            "+-----------+-----------------------------+\n",
            "|     Monday|                   1033518.33|\n",
            "|    Tuesday|                   1036488.73|\n",
            "|  Wednesday|                   1043121.45|\n",
            "|   Thursday|                   1075211.61|\n",
            "|     Friday|                   1101193.49|\n",
            "|     Sunday|                   1154172.92|\n",
            "|   Saturday|                   1172419.75|\n",
            "+-----------+-----------------------------+\n",
            "\n"
          ]
        }
      ]
    },
    {
      "cell_type": "markdown",
      "source": [
        "## By Week"
      ],
      "metadata": {
        "id": "uXp-BBEJpPK5"
      }
    },
    {
      "cell_type": "code",
      "source": [
        "average_review_score_by_week_df = ecommerce_df.groupBy(\"week_of_month\").agg(round(avg(\"review_score\"),2).alias(\"average_review_score\")).orderBy(\"average_review_score\")\n",
        "average_review_score_by_week_df.show()\n",
        "\n",
        "ecommerce_datasets[\"average_review_score_by_week\"] = average_review_score_by_week_df"
      ],
      "metadata": {
        "colab": {
          "base_uri": "https://localhost:8080/"
        },
        "id": "77uwtvF6o4bx",
        "outputId": "493036ac-005b-4cea-e56c-e31f828e9c75"
      },
      "execution_count": 113,
      "outputs": [
        {
          "output_type": "stream",
          "name": "stdout",
          "text": [
            "+-------------+--------------------+\n",
            "|week_of_month|average_review_score|\n",
            "+-------------+--------------------+\n",
            "|            3|                4.04|\n",
            "|            5|                4.04|\n",
            "|            4|                4.05|\n",
            "|            2|                4.06|\n",
            "|            1|                4.07|\n",
            "|            6|                4.07|\n",
            "+-------------+--------------------+\n",
            "\n"
          ]
        }
      ]
    },
    {
      "cell_type": "code",
      "source": [
        "average_freight_value_by_week_df = ecommerce_df.groupBy(\"week_of_month\").agg(round(avg(\"order_freight_value\"),2).alias(\"average_freight_value\")).orderBy(\"average_freight_value\")\n",
        "average_freight_value_by_week_df.show()\n",
        "\n",
        "ecommerce_datasets[\"average_freight_value_by_week\"] = average_freight_value_by_week_df"
      ],
      "metadata": {
        "colab": {
          "base_uri": "https://localhost:8080/"
        },
        "id": "J9rvJbjSo4VI",
        "outputId": "cb824247-ca1f-488d-9d2f-0cd410d9d181"
      },
      "execution_count": 114,
      "outputs": [
        {
          "output_type": "stream",
          "name": "stdout",
          "text": [
            "+-------------+---------------------+\n",
            "|week_of_month|average_freight_value|\n",
            "+-------------+---------------------+\n",
            "|            6|                21.43|\n",
            "|            3|                21.62|\n",
            "|            5|                21.71|\n",
            "|            2|                21.78|\n",
            "|            1|                21.82|\n",
            "|            4|                21.82|\n",
            "+-------------+---------------------+\n",
            "\n"
          ]
        }
      ]
    },
    {
      "cell_type": "code",
      "source": [
        "average_time_to_approve_order_by_week_df = ecommerce_df.groupBy(\"week_of_month\").agg(round(avg(\"time_to_approve_order\"),2).alias(\"average_time_to_approve_order\")).orderBy(\"average_time_to_approve_order\")\n",
        "average_time_to_approve_order_by_week_df.show()\n",
        "\n",
        "ecommerce_datasets[\"average_time_to_approve_order_by_week\"] = average_time_to_approve_order_by_week_df"
      ],
      "metadata": {
        "colab": {
          "base_uri": "https://localhost:8080/"
        },
        "id": "f9xITJD7pfno",
        "outputId": "5f72f090-be66-4823-c53a-3121d39f7d87"
      },
      "execution_count": 118,
      "outputs": [
        {
          "output_type": "stream",
          "name": "stdout",
          "text": [
            "+-------------+-----------------------------+\n",
            "|week_of_month|average_time_to_approve_order|\n",
            "+-------------+-----------------------------+\n",
            "|            3|                     34514.17|\n",
            "|            2|                     37290.22|\n",
            "|            5|                     37842.18|\n",
            "|            6|                     37842.89|\n",
            "|            4|                     39152.78|\n",
            "|            1|                      40009.4|\n",
            "+-------------+-----------------------------+\n",
            "\n"
          ]
        }
      ]
    },
    {
      "cell_type": "code",
      "source": [
        "average_time_to_deliver_order_by_week_df = ecommerce_df.groupBy(\"week_of_month\").agg(round(avg(\"time_to_deliver_order\"),2).alias(\"average_time_to_deliver_order\")).orderBy(\"average_time_to_deliver_order\")\n",
        "average_time_to_deliver_order_by_week_df.show()\n",
        "\n",
        "ecommerce_datasets[\"average_time_to_deliver_order_by_week\"] = average_time_to_deliver_order_by_week_df"
      ],
      "metadata": {
        "colab": {
          "base_uri": "https://localhost:8080/"
        },
        "id": "I5LTeubGpfgR",
        "outputId": "08f2bb1f-5ba6-44e0-aacc-6873b5f9339c"
      },
      "execution_count": 119,
      "outputs": [
        {
          "output_type": "stream",
          "name": "stdout",
          "text": [
            "+-------------+-----------------------------+\n",
            "|week_of_month|average_time_to_deliver_order|\n",
            "+-------------+-----------------------------+\n",
            "|            6|                    812527.32|\n",
            "|            5|                   1073336.96|\n",
            "|            3|                   1082696.05|\n",
            "|            2|                   1089760.94|\n",
            "|            4|                   1095327.44|\n",
            "|            1|                   1105146.08|\n",
            "+-------------+-----------------------------+\n",
            "\n"
          ]
        }
      ]
    },
    {
      "cell_type": "markdown",
      "source": [
        "#Extra Look at Freight Costs"
      ],
      "metadata": {
        "id": "571UOuU1pgBJ"
      }
    },
    {
      "cell_type": "code",
      "source": [
        "total_freight_charges_df = ecommerce_df.agg(round(sum(\"order_freight_value\"),2).alias(\"total_freight_charges\"))\n",
        "total_freight_charges_df.show()\n",
        "\n",
        "ecommerce_datasets[\"total_freight_charges\"] = total_freight_charges_df"
      ],
      "metadata": {
        "colab": {
          "base_uri": "https://localhost:8080/"
        },
        "id": "nh6JJ17npmqb",
        "outputId": "8d7c6c66-4def-4017-8c63-ae4d8f5debfc"
      },
      "execution_count": 122,
      "outputs": [
        {
          "output_type": "stream",
          "name": "stdout",
          "text": [
            "+---------------------+\n",
            "|total_freight_charges|\n",
            "+---------------------+\n",
            "|           2174127.92|\n",
            "+---------------------+\n",
            "\n"
          ]
        }
      ]
    },
    {
      "cell_type": "code",
      "source": [
        "average_freight_charges_by_city_df = ecommerce_df.groupBy(\"customer_city\").agg(round(avg(\"order_freight_value\"),2).alias(\"average_freight_charges\"))\n",
        "average_freight_charges_by_city_df.show()\n",
        "\n",
        "ecommerce_datasets[\"average_freight_charges_by_city\"] = average_freight_charges_by_city_df"
      ],
      "metadata": {
        "colab": {
          "base_uri": "https://localhost:8080/"
        },
        "id": "IIqQo3UJpn2x",
        "outputId": "5db4c4ed-0b84-4c03-9402-21a29a4db1a4"
      },
      "execution_count": 131,
      "outputs": [
        {
          "output_type": "stream",
          "name": "stdout",
          "text": [
            "+-----------------+-----------------------+\n",
            "|    customer_city|average_freight_charges|\n",
            "+-----------------+-----------------------+\n",
            "|         Araruama|                   24.3|\n",
            "|         Guidoval|                  17.61|\n",
            "|      Piranguinho|                  16.18|\n",
            "|      Tres Pontas|                  22.49|\n",
            "| Senador Guiomard|                  68.55|\n",
            "|         Rio Novo|                  15.56|\n",
            "|        Carrancas|                  16.09|\n",
            "|        Fronteira|                  20.64|\n",
            "|           Utinga|                  26.07|\n",
            "|     Assis Brasil|                  24.84|\n",
            "|           Pianco|                  65.21|\n",
            "|         Macaubas|                  45.09|\n",
            "|       Livramento|                  25.47|\n",
            "|     Cristalandia|                  48.81|\n",
            "|Tiradentes do Sul|                  28.99|\n",
            "|            Apodi|                  37.52|\n",
            "|Porto dos Gauchos|                   34.0|\n",
            "|         Machados|                  42.51|\n",
            "|     Rio do Campo|                  25.14|\n",
            "|       Purilandia|                  27.49|\n",
            "+-----------------+-----------------------+\n",
            "only showing top 20 rows\n",
            "\n"
          ]
        }
      ]
    },
    {
      "cell_type": "code",
      "source": [
        "average_freight_charges_by_state_df = ecommerce_df.groupBy(\"customer_state\").agg(round(avg(\"order_freight_value\"),2).alias(\"average_freight_charges\"))\n",
        "average_freight_charges_by_state_df.show()\n",
        "\n",
        "ecommerce_datasets[\"average_freight_charges_by_state\"] = average_freight_charges_by_state_df"
      ],
      "metadata": {
        "colab": {
          "base_uri": "https://localhost:8080/"
        },
        "id": "o6HJalo4clAI",
        "outputId": "19f9b244-cdd5-40e4-94b1-44ced92dd79a"
      },
      "execution_count": 134,
      "outputs": [
        {
          "output_type": "stream",
          "name": "stdout",
          "text": [
            "+--------------+-----------------------+\n",
            "|customer_state|average_freight_charges|\n",
            "+--------------+-----------------------+\n",
            "|            SC|                  23.25|\n",
            "|            RO|                  51.16|\n",
            "|            PI|                  41.18|\n",
            "|            AM|                  36.32|\n",
            "|            RR|                  46.53|\n",
            "|            GO|                  24.44|\n",
            "|            TO|                  38.92|\n",
            "|            MT|                   29.8|\n",
            "|            SP|                  16.63|\n",
            "|            ES|                  23.97|\n",
            "|            PB|                  41.15|\n",
            "|            RS|                  23.64|\n",
            "|            MS|                  24.97|\n",
            "|            AL|                  37.71|\n",
            "|            MG|                  22.02|\n",
            "|            PA|                  37.95|\n",
            "|            BA|                  29.07|\n",
            "|            SE|                  39.24|\n",
            "|            PE|                  34.65|\n",
            "|            CE|                  35.23|\n",
            "+--------------+-----------------------+\n",
            "only showing top 20 rows\n",
            "\n"
          ]
        }
      ]
    },
    {
      "cell_type": "markdown",
      "source": [
        "# Exporting Data"
      ],
      "metadata": {
        "id": "6esirb7KpoxB"
      }
    },
    {
      "cell_type": "code",
      "source": [
        "for i in ecommerce_datasets:\n",
        "  ecommerce_datasets[i].write.format(\"csv\").option(\"header\", \"True\").save('{}'.format(i,'r'))\n",
        "  ecommerce_datasets[i].write.format(\"csv\").option(\"header\", \"True\").save('{}'.format(i,'r'))\n",
        "\n",
        "  config = {\n",
        "  'endpoint': 'https://cosmosdb-xg-sql.documents.azure.com:443/',\n",
        "  'masterkey': 'WVkKMa27deTM6hH1emUN68KJMSeJmvi1ZJpYSOQxaSZ6qFNURAaNyvOjutbwYizQFfaSXKSWlVmIACDbcbmCdA==',\n",
        "  'database': 'synapselinkdb',\n",
        "  'collection': i,\n",
        "  }\n",
        "  ecommerce_datasets[i].write.format(\"com.microsoft.azure.cosmosdb.spark\").options(**config).mode('append').save()"
      ],
      "metadata": {
        "id": "4f_B8tq9pstT"
      },
      "execution_count": 139,
      "outputs": []
    }
  ]
}